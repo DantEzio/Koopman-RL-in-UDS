{
 "cells": [
  {
   "cell_type": "code",
   "execution_count": 1,
   "metadata": {},
   "outputs": [],
   "source": [
    "import numpy as np\n",
    "import scipy.linalg as linalg\n",
    "import matplotlib.pyplot as plt\n",
    "import pandas as pd"
   ]
  },
  {
   "cell_type": "code",
   "execution_count": 2,
   "metadata": {},
   "outputs": [],
   "source": [
    "import mmd"
   ]
  },
  {
   "cell_type": "code",
   "execution_count": 3,
   "metadata": {},
   "outputs": [],
   "source": [
    "#linear\n",
    "from sklearn import linear_model\n",
    "#DL model\n",
    "from sklearn.neural_network import MLPRegressor\n",
    "#kernel regression\n",
    "from sklearn.kernel_ridge import KernelRidge"
   ]
  },
  {
   "cell_type": "code",
   "execution_count": 4,
   "metadata": {},
   "outputs": [],
   "source": [
    "#MSE and NSE\n",
    "def MSE(x,y):\n",
    "    return np.sqrt(np.mean(np.square(x-y)))\n",
    "\n",
    "def NSE(pre,tar):\n",
    "    a=np.sum(np.square(pre-tar))/np.sum(np.square(tar-np.mean(tar)))\n",
    "    return 1-a"
   ]
  },
  {
   "cell_type": "code",
   "execution_count": 5,
   "metadata": {},
   "outputs": [
    {
     "name": "stdout",
     "output_type": "stream",
     "text": [
      "(336, 13)\n"
     ]
    }
   ],
   "source": [
    "#Prepare training data (set0)\n",
    "df_s0 = pd.read_excel(r'./save_data/excelfile/rain0_set0_state_data.xlsx')\n",
    "df_a0= pd.read_excel(r'./save_data/excelfile/rain0_set0_action_data.xlsx')\n",
    "df_r0= pd.read_excel(r'./save_data/excelfile/rain0_set0_rain_data.xlsx')\n",
    "dt_s0=df_s0.values[:,1:]\n",
    "dt_a0=df_a0.values[:,1:]\n",
    "dt_r0=df_r0.values[:,1:]\n",
    "\n",
    "data=np.concatenate((dt_s0,dt_a0,dt_r0),axis=1)\n",
    "        \n",
    "for it in range(3):\n",
    "    for jt in [0,2]:   \n",
    "        df_s0 = pd.read_excel(r'./save_data/excelfile/rain'+str(it)+'_set'+str(jt)+'_state_data.xlsx')\n",
    "        df_a0= pd.read_excel(r'./save_data/excelfile/rain'+str(it)+'_set'+str(jt)+'_action_data.xlsx')\n",
    "        df_r0= pd.read_excel(r'./save_data/excelfile/rain'+str(it)+'_set'+str(jt)+'_rain_data.xlsx')\n",
    "        dt_s0=df_s0.values[:,1:]\n",
    "        dt_a0=df_a0.values[:,1:]\n",
    "        dt_r0=df_r0.values[:,1:]\n",
    "        tem=np.concatenate((dt_s0,dt_a0,dt_r0),axis=1)\n",
    "        data=np.concatenate((data,tem),axis=0)\n",
    "print(data.shape)\n",
    "\n",
    "#Prepare test1 data\n",
    "df_s0 = pd.read_excel(r'./save_data/excelfile/rain0_set1_state_data.xlsx')\n",
    "df_a0= pd.read_excel(r'./save_data/excelfile/rain0_set1_action_data.xlsx')\n",
    "df_r0= pd.read_excel(r'./save_data/excelfile/rain0_set1_rain_data.xlsx')\n",
    "dt_s0=df_s0.values[:,1:]\n",
    "dt_a0=df_a0.values[:,1:]\n",
    "dt_r0=df_r0.values[:,1:]\n",
    "data_test1=[]\n",
    "data_test1.append(np.concatenate((dt_s0,dt_a0,dt_r0),axis=1))\n",
    "        \n",
    "for it in [0,2,3,4,5,6,7,8,9]:\n",
    "    for jt in [1]:   \n",
    "        df_s0 = pd.read_excel(r'./save_data/excelfile/rain'+str(it)+'_set'+str(jt)+'_state_data.xlsx')\n",
    "        df_a0= pd.read_excel(r'./save_data/excelfile/rain'+str(it)+'_set'+str(jt)+'_action_data.xlsx')\n",
    "        df_r0= pd.read_excel(r'./save_data/excelfile/rain'+str(it)+'_set'+str(jt)+'_rain_data.xlsx')\n",
    "        dt_s0=df_s0.values[:,1:]\n",
    "        dt_a0=df_a0.values[:,1:]\n",
    "        dt_r0=df_r0.values[:,1:]\n",
    "        tem=np.concatenate((dt_s0,dt_a0,dt_r0),axis=1)\n",
    "        data_test1.append(tem)"
   ]
  },
  {
   "cell_type": "markdown",
   "metadata": {},
   "source": [
    "# 5.1.1 Results (different hyperparameters)"
   ]
  },
  {
   "cell_type": "markdown",
   "metadata": {},
   "source": [
    "# 十场降雨有三组不同控制序列，其中十场降雨的第一组控制用于训练，其余用于测试"
   ]
  },
  {
   "cell_type": "code",
   "execution_count": 8,
   "metadata": {},
   "outputs": [
    {
     "name": "stdout",
     "output_type": "stream",
     "text": [
      "(334, 13) (334, 13)\n"
     ]
    }
   ],
   "source": [
    "X_train=data[:data.shape[0]-2,:]\n",
    "Y_train=data[1:data.shape[0]-1,:]\n",
    "print(X_train.shape,Y_train.shape)"
   ]
  },
  {
   "cell_type": "markdown",
   "metadata": {},
   "source": [
    "# KEDMD"
   ]
  },
  {
   "cell_type": "code",
   "execution_count": 21,
   "metadata": {},
   "outputs": [
    {
     "name": "stdout",
     "output_type": "stream",
     "text": [
      "Rain number: 0\n",
      "KEDMD:\n",
      "MSE: 2.7397395487999257   NSE: 0.9452205972346812\n",
      "Rain number: 1\n",
      "KEDMD:\n",
      "MSE: 2.7397395487999257   NSE: 0.9452205972346812\n",
      "Rain number: 2\n",
      "KEDMD:\n",
      "MSE: 17.75190825911744   NSE: -1.5856479292928158\n",
      "Rain number: 3\n",
      "KEDMD:\n",
      "MSE: 10.786648960989481   NSE: 0.1364808549375165\n",
      "Rain number: 4\n",
      "KEDMD:\n",
      "MSE: 3.865543657670724   NSE: 0.7067663770050281\n"
     ]
    }
   ],
   "source": [
    "#KEDMD 参数1\n",
    "KRR = KernelRidge(kernel='polynomial')\n",
    "KRR.fit(X_train, Y_train)\n",
    "#Prediction 3 rainfall for testing\n",
    "KEDMD,SWMM=[],[]\n",
    "for i in range(5):\n",
    "    #X_test, Y_test=data_test1[rainlog][:46,:],data_test1[0][1:47,:]\n",
    "    X_test=data_test1[i][:46,:]\n",
    "    Y_test=data_test1[i][1:47,:]\n",
    "    \n",
    "    print('Rain number:',i)\n",
    "    #KEDMD\n",
    "    Y_K=KRR.predict(X_test)\n",
    "    print('KEDMD:')\n",
    "    print('MSE:',MSE(Y_K,Y_test),'  NSE:',NSE(Y_K,Y_test))   \n",
    "    \n",
    "    KEDMD.append(Y_K)\n",
    "    SWMM.append(Y_test)"
   ]
  },
  {
   "cell_type": "code",
   "execution_count": 17,
   "metadata": {},
   "outputs": [
    {
     "name": "stdout",
     "output_type": "stream",
     "text": [
      "Rain number: 0\n",
      "KEDMD:\n",
      "MSE: 0.808477811720872   NSE: 0.9952298180360394\n",
      "Rain number: 1\n",
      "KEDMD:\n",
      "MSE: 0.808477811720872   NSE: 0.9952298180360394\n",
      "Rain number: 2\n",
      "KEDMD:\n",
      "MSE: 1.4479967977448136   NSE: 0.982796591467421\n",
      "Rain number: 3\n",
      "KEDMD:\n",
      "MSE: 0.9917624011891029   NSE: 0.9927001462477347\n",
      "Rain number: 4\n",
      "KEDMD:\n",
      "MSE: 1.7264602893901835   NSE: 0.9415067451727164\n"
     ]
    }
   ],
   "source": [
    "#KEDMD 参数2\n",
    "KRR = KernelRidge(kernel='laplacian')\n",
    "KRR.fit(X_train, Y_train)\n",
    "#Prediction 3 rainfall for testing\n",
    "KEDMD,SWMM=[],[]\n",
    "for i in range(5):\n",
    "    #X_test, Y_test=data_test1[rainlog][:46,:],data_test1[0][1:47,:]\n",
    "    X_test=data_test1[i][:46,:]\n",
    "    Y_test=data_test1[i][1:47,:]\n",
    "    \n",
    "    print('Rain number:',i)\n",
    "    #KEDMD\n",
    "    Y_K=KRR.predict(X_test)\n",
    "    print('KEDMD:')\n",
    "    print('MSE:',MSE(Y_K,Y_test),'  NSE:',NSE(Y_K,Y_test))   \n",
    "    \n",
    "    KEDMD.append(Y_K)\n",
    "    SWMM.append(Y_test)"
   ]
  },
  {
   "cell_type": "code",
   "execution_count": 25,
   "metadata": {},
   "outputs": [
    {
     "name": "stdout",
     "output_type": "stream",
     "text": [
      "Rain number: 0\n",
      "KEDMD:\n",
      "MSE: 0.9345815793266253   NSE: 0.9936256901729469\n",
      "Rain number: 1\n",
      "KEDMD:\n",
      "MSE: 0.9345815793266253   NSE: 0.9936256901729469\n",
      "Rain number: 2\n",
      "KEDMD:\n",
      "MSE: 1.1386463943982583   NSE: 0.9893620719060653\n",
      "Rain number: 3\n",
      "KEDMD:\n",
      "MSE: 1.075996825554724   NSE: 0.9914074738966164\n",
      "Rain number: 4\n",
      "KEDMD:\n",
      "MSE: 1.2003805792732185   NSE: 0.9717231829498797\n"
     ]
    },
    {
     "name": "stderr",
     "output_type": "stream",
     "text": [
      "C:\\Users\\Lenovo\\Anaconda3\\lib\\site-packages\\sklearn\\linear_model\\_ridge.py:190: UserWarning: Singular matrix in solving dual problem. Using least-squares solution instead.\n",
      "  warnings.warn(\"Singular matrix in solving dual problem. Using \"\n"
     ]
    }
   ],
   "source": [
    "#KEDMD 参数1\n",
    "KRR = KernelRidge(kernel='additive_chi2')\n",
    "KRR.fit(X_train, Y_train)\n",
    "#Prediction 3 rainfall for testing\n",
    "KEDMD,SWMM=[],[]\n",
    "for i in range(5):\n",
    "    #X_test, Y_test=data_test1[rainlog][:46,:],data_test1[0][1:47,:]\n",
    "    X_test=data_test1[i][:46,:]\n",
    "    Y_test=data_test1[i][1:47,:]\n",
    "    \n",
    "    print('Rain number:',i)\n",
    "    #KEDMD\n",
    "    Y_K=KRR.predict(X_test)\n",
    "    print('KEDMD:')\n",
    "    print('MSE:',MSE(Y_K,Y_test),'  NSE:',NSE(Y_K,Y_test))   \n",
    "    \n",
    "    KEDMD.append(Y_K)\n",
    "    SWMM.append(Y_test)\n",
    "    "
   ]
  },
  {
   "cell_type": "markdown",
   "metadata": {},
   "source": [
    "# DLEDMD"
   ]
  },
  {
   "cell_type": "code",
   "execution_count": 29,
   "metadata": {},
   "outputs": [
    {
     "name": "stdout",
     "output_type": "stream",
     "text": [
      "DLEDMD:\n",
      "MSE: 1.3555293363249266   NSE: 0.9865903767220789\n",
      "DLEDMD:\n",
      "MSE: 1.3555293363249266   NSE: 0.9865903767220789\n",
      "DLEDMD:\n",
      "MSE: 1.4312329452293007   NSE: 0.9831926227126048\n",
      "DLEDMD:\n",
      "MSE: 1.6766436761136105   NSE: 0.979136823580025\n",
      "DLEDMD:\n",
      "MSE: 1.4916835963429544   NSE: 0.9563337367209046\n"
     ]
    }
   ],
   "source": [
    "#DLEDMD 参数1\n",
    "DL = MLPRegressor(hidden_layer_sizes=(10, 4),  activation='relu', alpha=0.1, batch_size='auto',\n",
    "                  power_t=0.5, max_iter=50000,epsilon=1e-08)\n",
    "DL.fit(X_train,Y_train)\n",
    "\n",
    "#Prediction 3 rainfall for testing\n",
    "DLEDMD,SWMM=[],[]\n",
    "for i in range(5):\n",
    "    #X_test, Y_test=data_test1[rainlog][:46,:],data_test1[0][1:47,:]\n",
    "    X_test=data_test1[i][:46,:]\n",
    "    Y_test=data_test1[i][1:47,:]\n",
    "    \n",
    "    #DLEDMD\n",
    "    Y_dl=DL.predict(X_test)\n",
    "    print('DLEDMD:')\n",
    "    print('MSE:',MSE(Y_dl,Y_test),'  NSE:',NSE(Y_dl,Y_test))\n",
    "\n",
    "    DLEDMD.append(Y_dl)\n",
    "    SWMM.append(Y_test)"
   ]
  },
  {
   "cell_type": "code",
   "execution_count": 30,
   "metadata": {},
   "outputs": [
    {
     "name": "stdout",
     "output_type": "stream",
     "text": [
      "DLEDMD:\n",
      "MSE: 0.7898003392491385   NSE: 0.9954476738741742\n",
      "DLEDMD:\n",
      "MSE: 0.7898003392491385   NSE: 0.9954476738741742\n",
      "DLEDMD:\n",
      "MSE: 0.9029551032950188   NSE: 0.9933102234219818\n",
      "DLEDMD:\n",
      "MSE: 1.2750509769938998   NSE: 0.9879342596072739\n",
      "DLEDMD:\n",
      "MSE: 1.011351706240198   NSE: 0.9799277053255917\n"
     ]
    }
   ],
   "source": [
    "#DLEDMD 参数2\n",
    "DL = MLPRegressor(hidden_layer_sizes=(10, 10, 4),  activation='relu', alpha=0.1, batch_size='auto',\n",
    "                  power_t=0.5, max_iter=50000,epsilon=1e-08)\n",
    "DL.fit(X_train,Y_train)\n",
    "\n",
    "#Prediction 3 rainfall for testing\n",
    "DLEDMD,SWMM=[],[]\n",
    "for i in range(5):\n",
    "    #X_test, Y_test=data_test1[rainlog][:46,:],data_test1[0][1:47,:]\n",
    "    X_test=data_test1[i][:46,:]\n",
    "    Y_test=data_test1[i][1:47,:]\n",
    "    \n",
    "    #DLEDMD\n",
    "    Y_dl=DL.predict(X_test)\n",
    "    print('DLEDMD:')\n",
    "    print('MSE:',MSE(Y_dl,Y_test),'  NSE:',NSE(Y_dl,Y_test))\n",
    "\n",
    "    DLEDMD.append(Y_dl)\n",
    "    SWMM.append(Y_test)"
   ]
  },
  {
   "cell_type": "code",
   "execution_count": 31,
   "metadata": {},
   "outputs": [
    {
     "name": "stdout",
     "output_type": "stream",
     "text": [
      "DLEDMD:\n",
      "MSE: 0.780848912097938   NSE: 0.9955502792766985\n",
      "DLEDMD:\n",
      "MSE: 0.780848912097938   NSE: 0.9955502792766985\n",
      "DLEDMD:\n",
      "MSE: 0.9188654207412956   NSE: 0.9930723950104725\n",
      "DLEDMD:\n",
      "MSE: 0.9485803232989706   NSE: 0.993321989409689\n",
      "DLEDMD:\n",
      "MSE: 1.0325739009144084   NSE: 0.979076473250391\n"
     ]
    }
   ],
   "source": [
    "#DLEDMD 参数3\n",
    "DL = MLPRegressor(hidden_layer_sizes=(10, 10,10, 4),  activation='relu', alpha=0.1, batch_size='auto',\n",
    "                  power_t=0.5, max_iter=50000,epsilon=1e-08)\n",
    "DL.fit(X_train,Y_train)\n",
    "\n",
    "#Prediction 3 rainfall for testing\n",
    "DLEDMD,SWMM=[],[]\n",
    "for i in range(5):\n",
    "    #X_test, Y_test=data_test1[rainlog][:46,:],data_test1[0][1:47,:]\n",
    "    X_test=data_test1[i][:46,:]\n",
    "    Y_test=data_test1[i][1:47,:]\n",
    "    \n",
    "    #DLEDMD\n",
    "    Y_dl=DL.predict(X_test)\n",
    "    print('DLEDMD:')\n",
    "    print('MSE:',MSE(Y_dl,Y_test),'  NSE:',NSE(Y_dl,Y_test))\n",
    "\n",
    "    DLEDMD.append(Y_dl)\n",
    "    SWMM.append(Y_test)"
   ]
  },
  {
   "cell_type": "markdown",
   "metadata": {},
   "source": [
    "# 5.1.2 Results (different training data)"
   ]
  },
  {
   "cell_type": "code",
   "execution_count": 6,
   "metadata": {},
   "outputs": [],
   "source": [
    "import rain_gen as rg"
   ]
  },
  {
   "cell_type": "code",
   "execution_count": 7,
   "metadata": {},
   "outputs": [
    {
     "data": {
      "image/png": "[encoded data removed]",
      "text/plain": [
       "<Figure size 432x288 with 1 Axes>"
      ]
     },
     "metadata": {
      "needs_background": "light"
     },
     "output_type": "display_data"
    }
   ],
   "source": [
    "P=[1,3,5,10]\n",
    "Rain=rg.rain_gen(121,1,P)\n",
    "Rain.save_rainfall_data()"
   ]
  },
  {
   "cell_type": "code",
   "execution_count": 8,
   "metadata": {},
   "outputs": [],
   "source": [
    "import generate_train_data as gtd"
   ]
  },
  {
   "cell_type": "code",
   "execution_count": 9,
   "metadata": {},
   "outputs": [
    {
     "name": "stdout",
     "output_type": "stream",
     "text": [
      "rainfall data: (4, 121)\n",
      "(48, 8)\n",
      "(48, 8)\n",
      "(48, 8)\n",
      "(48, 8)\n",
      "rain: 0  set: 0\n",
      "rain: 1  set: 0\n",
      "rain: 2  set: 0\n",
      "rain: 3  set: 0\n"
     ]
    }
   ],
   "source": [
    "ori_filename='ori_model'\n",
    "rain_file='./source data/5.1.2.2_rainfall data.txt'\n",
    "TDG=gtd.training_data_gen(ori_filename,rain_file)\n",
    "TDG.Get_data()\n",
    "TDG.data_transfer()"
   ]
  },
  {
   "cell_type": "code",
   "execution_count": 12,
   "metadata": {},
   "outputs": [],
   "source": [
    "#Prepare data\n",
    "df_s0 = pd.read_excel(r'./save_data/rain_P/excelfile/rain0_set0_state_data.xlsx')\n",
    "df_a0= pd.read_excel(r'./save_data/rain_P/excelfile/rain0_set0_action_data.xlsx')\n",
    "df_r0= pd.read_excel(r'./save_data/rain_P/excelfile/rain0_set0_rain_data.xlsx')\n",
    "dt_s0=df_s0.values[:,1:]\n",
    "dt_a0=df_a0.values[:,1:]\n",
    "dt_r0=df_r0.values[:,1:]\n",
    "data_test1=[]\n",
    "data_test1.append(np.concatenate((dt_s0,dt_a0,dt_r0),axis=1))\n",
    "        \n",
    "for it in [i for i in range(4)]:\n",
    "    df_s0 = pd.read_excel(r'./save_data/excelfile/rain'+str(it)+'_set0_state_data.xlsx')\n",
    "    df_a0= pd.read_excel(r'./save_data/excelfile/rain'+str(it)+'_set0_action_data.xlsx')\n",
    "    df_r0= pd.read_excel(r'./save_data/excelfile/rain'+str(it)+'_set0_rain_data.xlsx')\n",
    "    dt_s0=df_s0.values[:,1:]\n",
    "    dt_a0=df_a0.values[:,1:]\n",
    "    dt_r0=df_r0.values[:,1:]\n",
    "    tem=np.concatenate((dt_s0,dt_a0,dt_r0),axis=1)\n",
    "    data_test1.append(tem)"
   ]
  },
  {
   "cell_type": "code",
   "execution_count": 13,
   "metadata": {},
   "outputs": [
    {
     "name": "stdout",
     "output_type": "stream",
     "text": [
      "(46, 13) (46, 13)\n"
     ]
    }
   ],
   "source": [
    "X_train,Y_train=data_test1[0][:data_test1[0].shape[0]-2,:],data_test1[0][1:data_test1[0].shape[0]-1,:]\n",
    "print(X_train.shape,Y_train.shape)"
   ]
  },
  {
   "cell_type": "code",
   "execution_count": 14,
   "metadata": {},
   "outputs": [
    {
     "data": {
      "text/plain": [
       "MLPRegressor(alpha=0.1, hidden_layer_sizes=(10, 4), max_iter=50000)"
      ]
     },
     "execution_count": 14,
     "metadata": {},
     "output_type": "execute_result"
    }
   ],
   "source": [
    "#Test 1\n",
    "KRR = KernelRidge(kernel='laplacian')\n",
    "KRR.fit(X_train, Y_train)\n",
    "\n",
    "DL = MLPRegressor(hidden_layer_sizes=(10, 4),  activation='relu', alpha=0.1, batch_size='auto',\n",
    "                  power_t=0.5, max_iter=50000,epsilon=1e-08)\n",
    "DL.fit(X_train,Y_train)\n"
   ]
  },
  {
   "cell_type": "code",
   "execution_count": 16,
   "metadata": {},
   "outputs": [
    {
     "name": "stdout",
     "output_type": "stream",
     "text": [
      "1\n",
      "DLEDMD:\n",
      "MSE: 0.27747690448492496   NSE: 0.9917170231109382\n",
      "DLEDMD:\n",
      "MSE: 0.17667271662331005   NSE: 0.9966420692003896\n",
      "2\n",
      "DLEDMD:\n",
      "MSE: 2.982345910167186   NSE: 0.5360669321998623\n",
      "DLEDMD:\n",
      "MSE: 0.9268061396328987   NSE: 0.9551959673625995\n",
      "3\n",
      "DLEDMD:\n",
      "MSE: 12.37740514082756   NSE: -0.25649873262898004\n",
      "DLEDMD:\n",
      "MSE: 10.2035565502769   NSE: 0.1461020062546281\n",
      "4\n",
      "DLEDMD:\n",
      "MSE: 12.46785184886277   NSE: -0.2598515559635388\n",
      "DLEDMD:\n",
      "MSE: 10.279459755607657   NSE: 0.14359993466282184\n"
     ]
    }
   ],
   "source": [
    "#Prediction 3 rainfall for testing\n",
    "DLEDMD_M,KEDMD_M=[],[]\n",
    "DLEDMD_N,KEDMD_N=[],[]\n",
    "for i in range(1,5):\n",
    "    #X_test, Y_test=data_test1[rainlog][:46,:],data_test1[0][1:47,:]\n",
    "    X_test=data_test1[i][:46,:]\n",
    "    Y_test=data_test1[i][1:47,:]\n",
    "    print(i)\n",
    "    \n",
    "    #KEDMD\n",
    "    Y_dl=KRR.predict(X_test)\n",
    "    print('DLEDMD:')\n",
    "    print('MSE:',MSE(Y_dl,Y_test),'  NSE:',NSE(Y_dl,Y_test))\n",
    "    KEDMD_M.append(MSE(Y_dl,Y_test))\n",
    "    KEDMD_N.append(NSE(Y_dl,Y_test))\n",
    "    \n",
    "    #DLEDMD\n",
    "    Y_dl=DL.predict(X_test)\n",
    "    print('DLEDMD:')\n",
    "    print('MSE:',MSE(Y_dl,Y_test),'  NSE:',NSE(Y_dl,Y_test))\n",
    "    DLEDMD_M.append(MSE(Y_dl,Y_test))\n",
    "    DLEDMD_N.append(NSE(Y_dl,Y_test))\n",
    "    "
   ]
  },
  {
   "cell_type": "code",
   "execution_count": null,
   "metadata": {},
   "outputs": [],
   "source": []
  }
 ],
 "metadata": {
  "kernelspec": {
   "display_name": "Python 3",
   "language": "python",
   "name": "python3"
  },
  "language_info": {
   "codemirror_mode": {
    "name": "ipython",
    "version": 3
   },
   "file_extension": ".py",
   "mimetype": "text/x-python",
   "name": "python",
   "nbconvert_exporter": "python",
   "pygments_lexer": "ipython3",
   "version": "3.8.5"
  }
 },
 "nbformat": 4,
 "nbformat_minor": 2
}
