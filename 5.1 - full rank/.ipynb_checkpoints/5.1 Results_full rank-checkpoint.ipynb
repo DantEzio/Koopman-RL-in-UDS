{
 "cells": [
  {
   "cell_type": "code",
   "execution_count": 2,
   "metadata": {},
   "outputs": [],
   "source": [
    "import numpy as np\n",
    "import scipy.linalg as linalg\n",
    "import matplotlib.pyplot as plt\n",
    "import pandas as pd"
   ]
  },
  {
   "cell_type": "code",
   "execution_count": 3,
   "metadata": {},
   "outputs": [],
   "source": [
    "import mmd"
   ]
  },
  {
   "cell_type": "code",
   "execution_count": 101,
   "metadata": {},
   "outputs": [],
   "source": [
    "#MSE and NSE\n",
    "def MSE(x,y):\n",
    "    return np.sqrt(np.mean(np.square(x-y)))\n",
    "\n",
    "def NSE(pre,tar):\n",
    "    a=np.sum(np.square(pre-tar))/np.sum(np.square(tar-np.mean(tar)))\n",
    "    return 1-a"
   ]
  },
  {
   "cell_type": "code",
   "execution_count": 95,
   "metadata": {},
   "outputs": [
    {
     "name": "stdout",
     "output_type": "stream",
     "text": [
      "(480, 305)\n"
     ]
    }
   ],
   "source": [
    "#Prepare training data\n",
    "df_s0 = pd.read_excel(r'./save_data/excelfile/rain0_set0_state_data.xlsx')\n",
    "df_a0= pd.read_excel(r'./save_data/excelfile/rain0_set0_action_data.xlsx')\n",
    "df_r0= pd.read_excel(r'./save_data/excelfile/rain0_set0_rain_data.xlsx')\n",
    "df_node0= pd.read_excel(r'./save_data/excelfile/rain0_set0_node_data.xlsx')\n",
    "df_sub0= pd.read_excel(r'./save_data/excelfile/rain0_set0_sub_data.xlsx')\n",
    "dt_s0=df_s0.values[:,1:]\n",
    "dt_a0=df_a0.values[:,1:]\n",
    "dt_r0=df_r0.values[:,1:]\n",
    "dt_node0=df_node0.values[:,1:]\n",
    "dt_sub0=df_sub0.values[:,1:]\n",
    "data=np.concatenate((dt_s0,dt_a0,dt_r0,dt_node0,dt_sub0),axis=1)\n",
    "    \n",
    "for it in range(3):\n",
    "    for jt in range(3):   \n",
    "        df_s0 = pd.read_excel(r'./save_data/excelfile/rain'+str(it)+'_set'+str(jt)+'_state_data.xlsx')\n",
    "        df_a0= pd.read_excel(r'./save_data/excelfile/rain'+str(it)+'_set'+str(jt)+'_action_data.xlsx')\n",
    "        df_r0= pd.read_excel(r'./save_data/excelfile/rain'+str(it)+'_set'+str(jt)+'_rain_data.xlsx')\n",
    "        df_node0= pd.read_excel(r'./save_data/excelfile/rain'+str(it)+'_set'+str(jt)+'_node_data.xlsx')\n",
    "        df_sub0= pd.read_excel(r'./save_data/excelfile/rain'+str(it)+'_set'+str(jt)+'_sub_data.xlsx')\n",
    "        dt_s0=df_s0.values[:,1:]\n",
    "        dt_a0=df_a0.values[:,1:]\n",
    "        dt_r0=df_r0.values[:,1:]\n",
    "        dt_node0=df_node0.values[:,1:]\n",
    "        dt_sub0=df_sub0.values[:,1:]\n",
    "        tem=np.concatenate((dt_s0,dt_a0,dt_r0,dt_node0,dt_sub0),axis=1)\n",
    "        data=np.concatenate((data,tem),axis=0)\n",
    "    \n",
    "data=np.array(data)\n",
    "print(data.shape)"
   ]
  },
  {
   "cell_type": "code",
   "execution_count": 11,
   "metadata": {},
   "outputs": [],
   "source": [
    "#Train models: KVAD, KEDMD\n",
    "feature_dim = 1000\n",
    "feature_W = np.random.rand(X_train.shape[1], feature_dim) * 2 -1\n",
    "feature_b = np.random.rand(feature_dim)\n",
    "def feature_mapping(X):\n",
    "    return np.exp(-(X.dot(feature_W) + feature_b) ** 2 / 2)\n",
    "    \n",
    "model_mmd_dmd = mmd.linear_mmd_dmd(input_dim=X_train.shape[1], feature_mapping=feature_mapping)\n",
    "model_mmd_dmd.train(X_train, Y_train)\n",
    "   \n",
    "model_kernel_edmd = mmd.kernel_edmd(input_dim=X_train.shape[1])\n",
    "model_kernel_edmd.train(X_train, Y_train)\n"
   ]
  },
  {
   "cell_type": "code",
   "execution_count": 21,
   "metadata": {},
   "outputs": [],
   "source": [
    "#Prediction\n",
    "#KVAD=Y_out1\n",
    "#KEDMD=Y_out2\n",
    "#SWMM=Y_test\n",
    "\n",
    "m1,m2=100,100\n",
    "Y_out1=model_mmd_dmd.prediction(X_test[0,:],m1,Y_test.shape[0])\n",
    "Y_out2,_=model_kernel_edmd.prediction(X_test[0,:],m2,Y_test.shape[0])"
   ]
  },
  {
   "cell_type": "code",
   "execution_count": 22,
   "metadata": {},
   "outputs": [],
   "source": [
    "#save data\n",
    "df_out1=pd.DataFrame(Y_out1)\n",
    "df_out2=pd.DataFrame(Y_out2)\n",
    "df_sout=pd.DataFrame(Y_test)\n",
    "    \n",
    "writer = pd.ExcelWriter('./results/result1.xlsx')\n",
    "df_out1.to_excel(writer,sheet_name='out_KVAD')\n",
    "df_out2.to_excel(writer,sheet_name='out_KEDMD')\n",
    "df_sout.to_excel(writer,sheet_name='sout')\n",
    "writer.save()"
   ]
  },
  {
   "cell_type": "markdown",
   "metadata": {},
   "source": [
    "# 5.1 Results"
   ]
  },
  {
   "cell_type": "code",
   "execution_count": 96,
   "metadata": {},
   "outputs": [],
   "source": [
    "#8 rainfall's data\n",
    "rainlog=0\n",
    "alog=0\n",
    "\n",
    "df_s0 = pd.read_excel(r'./save_data/excelfile/TEST_rain'+str(rainlog)+'_set'+str(alog)+'_state_data.xlsx')\n",
    "df_a0= pd.read_excel(r'./save_data/excelfile/TEST_rain'+str(rainlog)+'_set'+str(alog)+'_action_data.xlsx')\n",
    "df_r0= pd.read_excel(r'./save_data/excelfile/TEST_rain'+str(rainlog)+'_set'+str(alog)+'_rain_data.xlsx')\n",
    "df_node0= pd.read_excel(r'./save_data/excelfile/TEST_rain'+str(rainlog)+'_set'+str(alog)+'_node_data.xlsx')\n",
    "df_sub0= pd.read_excel(r'./save_data/excelfile/TEST_rain'+str(rainlog)+'_set'+str(alog)+'_sub_data.xlsx')\n",
    "dt_s0=df_s0.values[:,1:]\n",
    "dt_a0=df_a0.values[:,1:]\n",
    "dt_r0=df_r0.values[:,1:]\n",
    "dt_node0=df_node0.values[:,1:]\n",
    "dt_sub0=df_sub0.values[:,1:]\n",
    "data8=np.concatenate((dt_s0,dt_a0,dt_r0,dt_node0,dt_sub0),axis=1)"
   ]
  },
  {
   "cell_type": "code",
   "execution_count": 98,
   "metadata": {},
   "outputs": [
    {
     "name": "stdout",
     "output_type": "stream",
     "text": [
      "(478, 305) (46, 305)\n"
     ]
    }
   ],
   "source": [
    "X_train, Y_train=data[:478,:],data[1:479,:]\n",
    "X_test, Y_test=data8[:46,:],data8[1:47,:]\n",
    "print(X_train.shape,X_test.shape)"
   ]
  },
  {
   "cell_type": "code",
   "execution_count": 99,
   "metadata": {},
   "outputs": [],
   "source": [
    "#Train models: KVAD, KEDMD\n",
    "feature_dim = 1000\n",
    "feature_W = np.random.rand(X_train.shape[1], feature_dim) * 2 -1\n",
    "feature_b = np.random.rand(feature_dim)\n",
    "def feature_mapping(X):\n",
    "    return np.exp(-(X.dot(feature_W) + feature_b) ** 2 / 2)\n",
    "    \n",
    "model_mmd_dmd = mmd.linear_mmd_dmd(input_dim=X_train.shape[1], feature_mapping=feature_mapping)\n",
    "model_mmd_dmd.train(X_train, Y_train)\n",
    "   \n",
    "model_kernel_edmd = mmd.kernel_edmd(input_dim=X_train.shape[1])\n",
    "model_kernel_edmd.train(X_train, Y_train)"
   ]
  },
  {
   "cell_type": "code",
   "execution_count": 100,
   "metadata": {},
   "outputs": [],
   "source": [
    "#Prediction\n",
    "m1,m2=100,100\n",
    "Y_out1=model_mmd_dmd.prediction(X_test[0,:],m1,Y_test.shape[0])\n",
    "Y_out2,_=model_kernel_edmd.prediction(X_test[0,:],m2,Y_test.shape[0])"
   ]
  },
  {
   "cell_type": "code",
   "execution_count": 102,
   "metadata": {},
   "outputs": [
    {
     "name": "stdout",
     "output_type": "stream",
     "text": [
      "Rain0:\n",
      "KEDMD:\n",
      "MSE: 4.103767038437767   NSE: 0.9102556104882101\n",
      "KVAD:\n",
      "MSE: 677.1806510877192   NSE: -2442.717455929827\n"
     ]
    }
   ],
   "source": [
    "print('Rain'+str(rainlog)+':')\n",
    "print('KEDMD:')\n",
    "print('MSE:',MSE(Y_out2,Y_test),'  NSE:',NSE(Y_out2,Y_test))\n",
    "\n",
    "print('KVAD:')\n",
    "print('MSE:',MSE(Y_out1,Y_test),'  NSE:',NSE(Y_out1,Y_test))"
   ]
  },
  {
   "cell_type": "code",
   "execution_count": 121,
   "metadata": {},
   "outputs": [
    {
     "data": {
      "text/plain": [
       "[<matplotlib.lines.Line2D at 0x1a82b125408>]"
      ]
     },
     "execution_count": 121,
     "metadata": {},
     "output_type": "execute_result"
    },
    {
     "data": {
      "image/png": "[encoded data removed]",
      "text/plain": [
       "<Figure size 432x288 with 1 Axes>"
      ]
     },
     "metadata": {
      "needs_background": "light"
     },
     "output_type": "display_data"
    }
   ],
   "source": [
    "i=304\n",
    "#plt.plot(Y_out1[:,i],'r:',label='KVAD')\n",
    "plt.plot(Y_out2[:,i],'b:',label='KEDMD')\n",
    "plt.plot(Y_test[:,i],'k',label='SWMM')"
   ]
  },
  {
   "cell_type": "code",
   "execution_count": null,
   "metadata": {},
   "outputs": [],
   "source": []
  }
 ],
 "metadata": {
  "kernelspec": {
   "display_name": "Python 3",
   "language": "python",
   "name": "python3"
  },
  "language_info": {
   "codemirror_mode": {
    "name": "ipython",
    "version": 3
   },
   "file_extension": ".py",
   "mimetype": "text/x-python",
   "name": "python",
   "nbconvert_exporter": "python",
   "pygments_lexer": "ipython3",
   "version": "3.7.4"
  }
 },
 "nbformat": 4,
 "nbformat_minor": 2
}
